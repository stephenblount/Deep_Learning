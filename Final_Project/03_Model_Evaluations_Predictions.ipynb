{
 "cells": [
  {
   "cell_type": "markdown",
   "id": "ac24d266",
   "metadata": {},
   "source": [
    "# Model Evaluations and Predictions"
   ]
  },
  {
   "cell_type": "code",
   "execution_count": 30,
   "id": "d33c9521",
   "metadata": {},
   "outputs": [],
   "source": [
    "import numpy as np\n",
    "import matplotlib.pyplot as plt\n",
    "%matplotlib inline\n",
    "import seaborn as sns\n",
    "\n",
    "from sklearn.metrics import confusion_matrix, classification_report\n",
    "from keras.preprocessing.image import ImageDataGenerator\n",
    "from keras.models import load_model\n",
    "from sklearn.metrics import accuracy_score\n",
    "import cv2 as cv"
   ]
  },
  {
   "cell_type": "code",
   "execution_count": 31,
   "id": "c87aabdc",
   "metadata": {},
   "outputs": [],
   "source": [
    "import warnings\n",
    "warnings.filterwarnings('ignore')"
   ]
  },
  {
   "cell_type": "markdown",
   "id": "0e4b51ce",
   "metadata": {},
   "source": [
    "### Load Model"
   ]
  },
  {
   "cell_type": "code",
   "execution_count": 32,
   "id": "4d8d7fe3",
   "metadata": {},
   "outputs": [],
   "source": [
    "model = load_model('full_batch_model_v2.h5')"
   ]
  },
  {
   "cell_type": "code",
   "execution_count": 33,
   "id": "e43b719c",
   "metadata": {},
   "outputs": [
    {
     "name": "stdout",
     "output_type": "stream",
     "text": [
      "Found 16979 images belonging to 2 classes.\n"
     ]
    }
   ],
   "source": [
    "# Test dataset loading\n",
    "\n",
    "test_img_gen = ImageDataGenerator(rescale=1./255)\n",
    "\n",
    "Testing_Gen=test_img_gen.flow_from_directory('Eye_Images/Test', class_mode='binary', color_mode='grayscale', \n",
    "                                batch_size=32, target_size=(66,66), shuffle=False,seed=711)"
   ]
  },
  {
   "cell_type": "code",
   "execution_count": 34,
   "id": "7c674f81",
   "metadata": {},
   "outputs": [
    {
     "name": "stdout",
     "output_type": "stream",
     "text": [
      "Found 50940 images belonging to 2 classes.\n",
      "Found 16979 images belonging to 2 classes.\n"
     ]
    }
   ],
   "source": [
    "train_img_gen = ImageDataGenerator(rescale=1./255, validation_split = 0.25)\n",
    "\n",
    "\n",
    "Training_Gen = train_img_gen.flow_from_directory('Eye_Images/Train', class_mode='binary', color_mode='grayscale', \n",
    "                                batch_size=32, target_size=(66,66), seed=711, \n",
    "                                subset='training')\n",
    "\n",
    "Validation_Gen = train_img_gen.flow_from_directory('Eye_Images/Train', class_mode='binary', color_mode='grayscale', \n",
    "                                batch_size=32, target_size=(66,66), seed=711, \n",
    "                                subset='validation')"
   ]
  },
  {
   "cell_type": "markdown",
   "id": "f376a20f",
   "metadata": {},
   "source": [
    "### Model Results"
   ]
  },
  {
   "cell_type": "code",
   "execution_count": 35,
   "id": "ff1eaddc",
   "metadata": {},
   "outputs": [
    {
     "data": {
      "text/plain": [
       "0.9646033335296543"
      ]
     },
     "execution_count": 35,
     "metadata": {},
     "output_type": "execute_result"
    }
   ],
   "source": [
    "y_pred = np.round(model.predict(Testing_Gen))\n",
    "y_true = Testing_Gen.labels\n",
    "accuracy_score(y_true, y_pred)"
   ]
  },
  {
   "cell_type": "code",
   "execution_count": 36,
   "id": "84204092",
   "metadata": {
    "scrolled": false
   },
   "outputs": [
    {
     "data": {
      "image/png": "[encoded data removed]",
      "text/plain": [
       "<Figure size 720x504 with 1 Axes>"
      ]
     },
     "metadata": {
      "needs_background": "light"
     },
     "output_type": "display_data"
    }
   ],
   "source": [
    "test_confusion = confusion_matrix(y_true, y_pred)\n",
    "\n",
    "plt.figure(figsize=(10,7))\n",
    "ax = sns.heatmap(test_confusion, cmap=\"Greens\", annot=True, square=True,fmt='g',cbar=False,annot_kws={\"size\":15},\n",
    "            xticklabels=['Closed', 'Open'], \n",
    "            yticklabels=['Closed', 'Open'])\n",
    "\n",
    "cmlabels = ['True Negatives', \"False Positives\",\n",
    "               'Flase Negatives', \"True Positives\"]\n",
    "for i,t in enumerate(ax.texts):\n",
    "  t.set_text(t.get_text() + \"\\n\" + cmlabels[i])\n",
    "\n",
    "plt.xlabel('Predicted', size=15)\n",
    "plt.ylabel('Actual', size=15)\n",
    "plt.title('Neural Network Results', size=20);\n",
    "plt.savefig(\"NN_Confusion_Matrix.png\")\n",
    "\n",
    "\n",
    "#Open = 1\n",
    "#Closed = 0"
   ]
  },
  {
   "cell_type": "code",
   "execution_count": 37,
   "id": "1aadcf3e",
   "metadata": {
    "scrolled": true
   },
   "outputs": [
    {
     "name": "stdout",
     "output_type": "stream",
     "text": [
      "              precision    recall  f1-score   support\n",
      "\n",
      "           0       0.95      0.98      0.96      8389\n",
      "           1       0.98      0.95      0.96      8590\n",
      "\n",
      "    accuracy                           0.96     16979\n",
      "   macro avg       0.96      0.96      0.96     16979\n",
      "weighted avg       0.96      0.96      0.96     16979\n",
      "\n"
     ]
    }
   ],
   "source": [
    "print(classification_report(y_true, y_pred))"
   ]
  },
  {
   "cell_type": "code",
   "execution_count": 38,
   "id": "20b58ad0",
   "metadata": {},
   "outputs": [
    {
     "data": {
      "text/html": [
       "<div>\n",
       "<style scoped>\n",
       "    .dataframe tbody tr th:only-of-type {\n",
       "        vertical-align: middle;\n",
       "    }\n",
       "\n",
       "    .dataframe tbody tr th {\n",
       "        vertical-align: top;\n",
       "    }\n",
       "\n",
       "    .dataframe thead th {\n",
       "        text-align: right;\n",
       "    }\n",
       "</style>\n",
       "<table border=\"1\" class=\"dataframe\">\n",
       "  <thead>\n",
       "    <tr style=\"text-align: right;\">\n",
       "      <th></th>\n",
       "      <th>Filenames</th>\n",
       "      <th>Label</th>\n",
       "      <th>Predict</th>\n",
       "    </tr>\n",
       "  </thead>\n",
       "  <tbody>\n",
       "    <tr>\n",
       "      <th>0</th>\n",
       "      <td>Closed/s0001_00011_0_0_0_0_0_01.png</td>\n",
       "      <td>0</td>\n",
       "      <td>0.0</td>\n",
       "    </tr>\n",
       "    <tr>\n",
       "      <th>1</th>\n",
       "      <td>Closed/s0001_00012_0_0_0_0_0_01.png</td>\n",
       "      <td>0</td>\n",
       "      <td>0.0</td>\n",
       "    </tr>\n",
       "    <tr>\n",
       "      <th>2</th>\n",
       "      <td>Closed/s0001_00031_0_0_0_0_0_01.png</td>\n",
       "      <td>0</td>\n",
       "      <td>0.0</td>\n",
       "    </tr>\n",
       "    <tr>\n",
       "      <th>3</th>\n",
       "      <td>Closed/s0001_00034_0_0_0_0_0_01.png</td>\n",
       "      <td>0</td>\n",
       "      <td>0.0</td>\n",
       "    </tr>\n",
       "    <tr>\n",
       "      <th>4</th>\n",
       "      <td>Closed/s0001_00035_0_0_0_0_0_01.png</td>\n",
       "      <td>0</td>\n",
       "      <td>0.0</td>\n",
       "    </tr>\n",
       "  </tbody>\n",
       "</table>\n",
       "</div>"
      ],
      "text/plain": [
       "                             Filenames  Label  Predict\n",
       "0  Closed/s0001_00011_0_0_0_0_0_01.png      0      0.0\n",
       "1  Closed/s0001_00012_0_0_0_0_0_01.png      0      0.0\n",
       "2  Closed/s0001_00031_0_0_0_0_0_01.png      0      0.0\n",
       "3  Closed/s0001_00034_0_0_0_0_0_01.png      0      0.0\n",
       "4  Closed/s0001_00035_0_0_0_0_0_01.png      0      0.0"
      ]
     },
     "execution_count": 38,
     "metadata": {},
     "output_type": "execute_result"
    }
   ],
   "source": [
    "filenames = [x for x in Testing_Gen.filenames]\n",
    "label = [x for x in y_true]\n",
    "predict = [x[0] for x in y_pred]\n",
    "\n",
    "import pandas as pd\n",
    "df = pd.DataFrame(list(zip(filenames, label, predict)), columns=['Filenames', 'Label', 'Predict'])\n",
    "df.head()"
   ]
  },
  {
   "cell_type": "code",
   "execution_count": 39,
   "id": "77b28311",
   "metadata": {},
   "outputs": [],
   "source": [
    "# function to add \"Outcome\" column\n",
    "def predict_outcome(row):\n",
    "    if (row['Label'] == 0) & (row['Predict'] == 0):\n",
    "        return \"TN\"\n",
    "    elif (row['Label'] == 0) & (row['Predict'] == 1):\n",
    "        return \"FP\"\n",
    "    elif (row['Label'] == 1) & (row['Predict'] == 1):\n",
    "        return \"TP\"\n",
    "    elif (row['Label'] == 1) & (row['Predict'] == 0):\n",
    "        return \"FN\"\n",
    "\n",
    "# applying function\n",
    "df['Outcome'] = df.apply (lambda row: predict_outcome(row), axis=1)"
   ]
  },
  {
   "cell_type": "code",
   "execution_count": 40,
   "id": "28e77805",
   "metadata": {},
   "outputs": [],
   "source": [
    "def eye_state(path, model):\n",
    "    img = cv.imread(path, cv.IMREAD_GRAYSCALE)\n",
    "    img_scale = img/255 \n",
    "    img_scale = np.expand_dims(img_scale.reshape(66,66,1),axis=0)\n",
    "\n",
    "    \n",
    "    prediction = np.round(model.predict(img_scale))[0][0]   \n",
    "    labels = {0:'Closed', 1:'Open'}\n",
    "    prediction = labels[prediction]\n",
    "    \n",
    "    print(f'Eye is predicted to be {prediction}, but is miss labeled')\n",
    "    plt.imshow(img,cmap='gray')"
   ]
  },
  {
   "cell_type": "code",
   "execution_count": 41,
   "id": "23404ce4",
   "metadata": {},
   "outputs": [
    {
     "data": {
      "text/plain": [
       "TP    8190\n",
       "TN    8188\n",
       "FN     400\n",
       "FP     201\n",
       "Name: Outcome, dtype: int64"
      ]
     },
     "execution_count": 41,
     "metadata": {},
     "output_type": "execute_result"
    }
   ],
   "source": [
    "df.Outcome.value_counts()"
   ]
  },
  {
   "cell_type": "markdown",
   "id": "644e27c4",
   "metadata": {},
   "source": [
    "### False Positive Analysis"
   ]
  },
  {
   "cell_type": "code",
   "execution_count": 42,
   "id": "d7c8bf08",
   "metadata": {},
   "outputs": [
    {
     "data": {
      "text/html": [
       "<div>\n",
       "<style scoped>\n",
       "    .dataframe tbody tr th:only-of-type {\n",
       "        vertical-align: middle;\n",
       "    }\n",
       "\n",
       "    .dataframe tbody tr th {\n",
       "        vertical-align: top;\n",
       "    }\n",
       "\n",
       "    .dataframe thead th {\n",
       "        text-align: right;\n",
       "    }\n",
       "</style>\n",
       "<table border=\"1\" class=\"dataframe\">\n",
       "  <thead>\n",
       "    <tr style=\"text-align: right;\">\n",
       "      <th></th>\n",
       "      <th>Filenames</th>\n",
       "      <th>Label</th>\n",
       "      <th>Predict</th>\n",
       "      <th>Outcome</th>\n",
       "    </tr>\n",
       "  </thead>\n",
       "  <tbody>\n",
       "    <tr>\n",
       "      <th>28</th>\n",
       "      <td>Closed/s0001_00165_0_0_0_0_0_01.png</td>\n",
       "      <td>0</td>\n",
       "      <td>1.0</td>\n",
       "      <td>FP</td>\n",
       "    </tr>\n",
       "    <tr>\n",
       "      <th>29</th>\n",
       "      <td>Closed/s0001_00166_0_0_0_0_0_01.png</td>\n",
       "      <td>0</td>\n",
       "      <td>1.0</td>\n",
       "      <td>FP</td>\n",
       "    </tr>\n",
       "    <tr>\n",
       "      <th>31</th>\n",
       "      <td>Closed/s0001_00176_0_0_0_0_0_01.png</td>\n",
       "      <td>0</td>\n",
       "      <td>1.0</td>\n",
       "      <td>FP</td>\n",
       "    </tr>\n",
       "    <tr>\n",
       "      <th>180</th>\n",
       "      <td>Closed/s0001_00863_0_0_0_0_0_01.png</td>\n",
       "      <td>0</td>\n",
       "      <td>1.0</td>\n",
       "      <td>FP</td>\n",
       "    </tr>\n",
       "    <tr>\n",
       "      <th>194</th>\n",
       "      <td>Closed/s0001_00927_0_1_0_2_0_01.png</td>\n",
       "      <td>0</td>\n",
       "      <td>1.0</td>\n",
       "      <td>FP</td>\n",
       "    </tr>\n",
       "    <tr>\n",
       "      <th>...</th>\n",
       "      <td>...</td>\n",
       "      <td>...</td>\n",
       "      <td>...</td>\n",
       "      <td>...</td>\n",
       "    </tr>\n",
       "    <tr>\n",
       "      <th>7279</th>\n",
       "      <td>Closed/s0037_00552_1_0_0_0_1_01.png</td>\n",
       "      <td>0</td>\n",
       "      <td>1.0</td>\n",
       "      <td>FP</td>\n",
       "    </tr>\n",
       "    <tr>\n",
       "      <th>7290</th>\n",
       "      <td>Closed/s0037_00602_1_0_0_0_1_01.png</td>\n",
       "      <td>0</td>\n",
       "      <td>1.0</td>\n",
       "      <td>FP</td>\n",
       "    </tr>\n",
       "    <tr>\n",
       "      <th>7291</th>\n",
       "      <td>Closed/s0037_00604_1_0_0_0_0_01.png</td>\n",
       "      <td>0</td>\n",
       "      <td>1.0</td>\n",
       "      <td>FP</td>\n",
       "    </tr>\n",
       "    <tr>\n",
       "      <th>7345</th>\n",
       "      <td>Closed/s0037_00850_1_0_0_0_0_01.png</td>\n",
       "      <td>0</td>\n",
       "      <td>1.0</td>\n",
       "      <td>FP</td>\n",
       "    </tr>\n",
       "    <tr>\n",
       "      <th>7945</th>\n",
       "      <td>Closed/s0037_03737_1_1_0_0_0_01.png</td>\n",
       "      <td>0</td>\n",
       "      <td>1.0</td>\n",
       "      <td>FP</td>\n",
       "    </tr>\n",
       "  </tbody>\n",
       "</table>\n",
       "<p>201 rows × 4 columns</p>\n",
       "</div>"
      ],
      "text/plain": [
       "                                Filenames  Label  Predict Outcome\n",
       "28    Closed/s0001_00165_0_0_0_0_0_01.png      0      1.0      FP\n",
       "29    Closed/s0001_00166_0_0_0_0_0_01.png      0      1.0      FP\n",
       "31    Closed/s0001_00176_0_0_0_0_0_01.png      0      1.0      FP\n",
       "180   Closed/s0001_00863_0_0_0_0_0_01.png      0      1.0      FP\n",
       "194   Closed/s0001_00927_0_1_0_2_0_01.png      0      1.0      FP\n",
       "...                                   ...    ...      ...     ...\n",
       "7279  Closed/s0037_00552_1_0_0_0_1_01.png      0      1.0      FP\n",
       "7290  Closed/s0037_00602_1_0_0_0_1_01.png      0      1.0      FP\n",
       "7291  Closed/s0037_00604_1_0_0_0_0_01.png      0      1.0      FP\n",
       "7345  Closed/s0037_00850_1_0_0_0_0_01.png      0      1.0      FP\n",
       "7945  Closed/s0037_03737_1_1_0_0_0_01.png      0      1.0      FP\n",
       "\n",
       "[201 rows x 4 columns]"
      ]
     },
     "execution_count": 42,
     "metadata": {},
     "output_type": "execute_result"
    }
   ],
   "source": [
    "df[df[\"Outcome\"]==\"FP\"]"
   ]
  },
  {
   "cell_type": "code",
   "execution_count": 43,
   "id": "1e206dbf",
   "metadata": {},
   "outputs": [
    {
     "name": "stdout",
     "output_type": "stream",
     "text": [
      "Eye is predicted to be Open, but is miss labeled\n"
     ]
    },
    {
     "data": {
      "image/png": "[encoded data removed]",
      "text/plain": [
       "<Figure size 432x288 with 1 Axes>"
      ]
     },
     "metadata": {
      "needs_background": "light"
     },
     "output_type": "display_data"
    }
   ],
   "source": [
    "path = 'Eye_Images/Test/'+df[df[\"Outcome\"]==\"FP\"].iloc[0,0]\n",
    "eye_state(path,model)"
   ]
  },
  {
   "cell_type": "code",
   "execution_count": 58,
   "id": "566e74cf",
   "metadata": {},
   "outputs": [
    {
     "name": "stdout",
     "output_type": "stream",
     "text": [
      "Eye is predicted to be Open, but is miss labeled\n"
     ]
    },
    {
     "data": {
      "image/png": "[encoded data removed]",
      "text/plain": [
       "<Figure size 432x288 with 1 Axes>"
      ]
     },
     "metadata": {
      "needs_background": "light"
     },
     "output_type": "display_data"
    }
   ],
   "source": [
    "path = 'Eye_Images/Test/'+df[df[\"Outcome\"]==\"FP\"].iloc[200,0]\n",
    "eye_state(path,model)"
   ]
  },
  {
   "cell_type": "code",
   "execution_count": 45,
   "id": "d3cbdd68",
   "metadata": {
    "scrolled": true
   },
   "outputs": [
    {
     "name": "stdout",
     "output_type": "stream",
     "text": [
      "Eye is predicted to be Open, but is miss labeled\n"
     ]
    },
    {
     "data": {
      "image/png": "[encoded data removed]",
      "text/plain": [
       "<Figure size 432x288 with 1 Axes>"
      ]
     },
     "metadata": {
      "needs_background": "light"
     },
     "output_type": "display_data"
    }
   ],
   "source": [
    "path = 'Eye_Images/Test/'+df[df[\"Outcome\"]==\"FP\"].iloc[55,0]\n",
    "eye_state(path,model)"
   ]
  },
  {
   "cell_type": "code",
   "execution_count": 57,
   "id": "5887669b",
   "metadata": {
    "scrolled": true
   },
   "outputs": [
    {
     "name": "stdout",
     "output_type": "stream",
     "text": [
      "Eye is predicted to be Open, but is miss labeled\n"
     ]
    },
    {
     "data": {
      "image/png": "[encoded data removed]",
      "text/plain": [
       "<Figure size 432x288 with 1 Axes>"
      ]
     },
     "metadata": {
      "needs_background": "light"
     },
     "output_type": "display_data"
    }
   ],
   "source": [
    "path = 'Eye_Images/Test/'+df[df[\"Outcome\"]==\"FP\"].iloc[99,0]\n",
    "eye_state(path,model)"
   ]
  },
  {
   "cell_type": "markdown",
   "id": "40bf0c8b",
   "metadata": {},
   "source": [
    "### False Negative Analysis"
   ]
  },
  {
   "cell_type": "code",
   "execution_count": 47,
   "id": "c08dd78e",
   "metadata": {},
   "outputs": [
    {
     "data": {
      "text/html": [
       "<div>\n",
       "<style scoped>\n",
       "    .dataframe tbody tr th:only-of-type {\n",
       "        vertical-align: middle;\n",
       "    }\n",
       "\n",
       "    .dataframe tbody tr th {\n",
       "        vertical-align: top;\n",
       "    }\n",
       "\n",
       "    .dataframe thead th {\n",
       "        text-align: right;\n",
       "    }\n",
       "</style>\n",
       "<table border=\"1\" class=\"dataframe\">\n",
       "  <thead>\n",
       "    <tr style=\"text-align: right;\">\n",
       "      <th></th>\n",
       "      <th>Filenames</th>\n",
       "      <th>Label</th>\n",
       "      <th>Predict</th>\n",
       "      <th>Outcome</th>\n",
       "    </tr>\n",
       "  </thead>\n",
       "  <tbody>\n",
       "    <tr>\n",
       "      <th>8398</th>\n",
       "      <td>Open/s0001_01895_0_0_1_0_0_01.png</td>\n",
       "      <td>1</td>\n",
       "      <td>0.0</td>\n",
       "      <td>FN</td>\n",
       "    </tr>\n",
       "    <tr>\n",
       "      <th>8403</th>\n",
       "      <td>Open/s0001_01918_0_0_1_0_0_01.png</td>\n",
       "      <td>1</td>\n",
       "      <td>0.0</td>\n",
       "      <td>FN</td>\n",
       "    </tr>\n",
       "    <tr>\n",
       "      <th>8412</th>\n",
       "      <td>Open/s0001_01948_0_0_1_0_0_01.png</td>\n",
       "      <td>1</td>\n",
       "      <td>0.0</td>\n",
       "      <td>FN</td>\n",
       "    </tr>\n",
       "    <tr>\n",
       "      <th>8415</th>\n",
       "      <td>Open/s0001_01960_0_0_1_0_0_01.png</td>\n",
       "      <td>1</td>\n",
       "      <td>0.0</td>\n",
       "      <td>FN</td>\n",
       "    </tr>\n",
       "    <tr>\n",
       "      <th>8416</th>\n",
       "      <td>Open/s0001_01962_0_0_1_0_0_01.png</td>\n",
       "      <td>1</td>\n",
       "      <td>0.0</td>\n",
       "      <td>FN</td>\n",
       "    </tr>\n",
       "    <tr>\n",
       "      <th>...</th>\n",
       "      <td>...</td>\n",
       "      <td>...</td>\n",
       "      <td>...</td>\n",
       "      <td>...</td>\n",
       "    </tr>\n",
       "    <tr>\n",
       "      <th>16834</th>\n",
       "      <td>Open/s0037_09540_1_1_1_2_0_01.png</td>\n",
       "      <td>1</td>\n",
       "      <td>0.0</td>\n",
       "      <td>FN</td>\n",
       "    </tr>\n",
       "    <tr>\n",
       "      <th>16892</th>\n",
       "      <td>Open/s0037_09902_1_1_1_2_1_01.png</td>\n",
       "      <td>1</td>\n",
       "      <td>0.0</td>\n",
       "      <td>FN</td>\n",
       "    </tr>\n",
       "    <tr>\n",
       "      <th>16896</th>\n",
       "      <td>Open/s0037_09925_1_1_1_2_0_01.png</td>\n",
       "      <td>1</td>\n",
       "      <td>0.0</td>\n",
       "      <td>FN</td>\n",
       "    </tr>\n",
       "    <tr>\n",
       "      <th>16934</th>\n",
       "      <td>Open/s0037_10111_1_1_1_2_1_01.png</td>\n",
       "      <td>1</td>\n",
       "      <td>0.0</td>\n",
       "      <td>FN</td>\n",
       "    </tr>\n",
       "    <tr>\n",
       "      <th>16940</th>\n",
       "      <td>Open/s0037_10120_1_1_1_1_0_01.png</td>\n",
       "      <td>1</td>\n",
       "      <td>0.0</td>\n",
       "      <td>FN</td>\n",
       "    </tr>\n",
       "  </tbody>\n",
       "</table>\n",
       "<p>400 rows × 4 columns</p>\n",
       "</div>"
      ],
      "text/plain": [
       "                               Filenames  Label  Predict Outcome\n",
       "8398   Open/s0001_01895_0_0_1_0_0_01.png      1      0.0      FN\n",
       "8403   Open/s0001_01918_0_0_1_0_0_01.png      1      0.0      FN\n",
       "8412   Open/s0001_01948_0_0_1_0_0_01.png      1      0.0      FN\n",
       "8415   Open/s0001_01960_0_0_1_0_0_01.png      1      0.0      FN\n",
       "8416   Open/s0001_01962_0_0_1_0_0_01.png      1      0.0      FN\n",
       "...                                  ...    ...      ...     ...\n",
       "16834  Open/s0037_09540_1_1_1_2_0_01.png      1      0.0      FN\n",
       "16892  Open/s0037_09902_1_1_1_2_1_01.png      1      0.0      FN\n",
       "16896  Open/s0037_09925_1_1_1_2_0_01.png      1      0.0      FN\n",
       "16934  Open/s0037_10111_1_1_1_2_1_01.png      1      0.0      FN\n",
       "16940  Open/s0037_10120_1_1_1_1_0_01.png      1      0.0      FN\n",
       "\n",
       "[400 rows x 4 columns]"
      ]
     },
     "execution_count": 47,
     "metadata": {},
     "output_type": "execute_result"
    }
   ],
   "source": [
    "df[df[\"Outcome\"]==\"FN\"]"
   ]
  },
  {
   "cell_type": "code",
   "execution_count": 48,
   "id": "d4a7c378",
   "metadata": {},
   "outputs": [
    {
     "name": "stdout",
     "output_type": "stream",
     "text": [
      "Eye is predicted to be Closed, but is miss labeled\n"
     ]
    },
    {
     "data": {
      "image/png": "[encoded data removed]",
      "text/plain": [
       "<Figure size 432x288 with 1 Axes>"
      ]
     },
     "metadata": {
      "needs_background": "light"
     },
     "output_type": "display_data"
    }
   ],
   "source": [
    "path = 'Eye_Images/Test/'+df[df[\"Outcome\"]==\"FN\"].iloc[0,0]\n",
    "eye_state(path,model)"
   ]
  },
  {
   "cell_type": "code",
   "execution_count": 52,
   "id": "54cbd9fe",
   "metadata": {},
   "outputs": [
    {
     "name": "stdout",
     "output_type": "stream",
     "text": [
      "Eye is predicted to be Closed, but is miss labeled\n"
     ]
    },
    {
     "data": {
      "image/png": "[encoded data removed]",
      "text/plain": [
       "<Figure size 432x288 with 1 Axes>"
      ]
     },
     "metadata": {
      "needs_background": "light"
     },
     "output_type": "display_data"
    }
   ],
   "source": [
    "path = 'Eye_Images/Test/'+df[df[\"Outcome\"]==\"FN\"].iloc[30,0]\n",
    "eye_state(path,model)"
   ]
  },
  {
   "cell_type": "code",
   "execution_count": 53,
   "id": "a83afc39",
   "metadata": {},
   "outputs": [
    {
     "name": "stdout",
     "output_type": "stream",
     "text": [
      "Eye is predicted to be Closed, but is miss labeled\n"
     ]
    },
    {
     "data": {
      "image/png": "[encoded data removed]",
      "text/plain": [
       "<Figure size 432x288 with 1 Axes>"
      ]
     },
     "metadata": {
      "needs_background": "light"
     },
     "output_type": "display_data"
    }
   ],
   "source": [
    "path = 'Eye_Images/Test/'+df[df[\"Outcome\"]==\"FN\"].iloc[50,0]\n",
    "eye_state(path,model)"
   ]
  },
  {
   "cell_type": "code",
   "execution_count": 56,
   "id": "a77a49a7",
   "metadata": {},
   "outputs": [
    {
     "name": "stdout",
     "output_type": "stream",
     "text": [
      "Eye is predicted to be Closed, but is miss labeled\n"
     ]
    },
    {
     "data": {
      "image/png": "[encoded data removed]",
      "text/plain": [
       "<Figure size 432x288 with 1 Axes>"
      ]
     },
     "metadata": {
      "needs_background": "light"
     },
     "output_type": "display_data"
    }
   ],
   "source": [
    "path = 'Eye_Images/Test/'+df[df[\"Outcome\"]==\"FN\"].iloc[349,0]\n",
    "eye_state(path,model)"
   ]
  }
 ],
 "metadata": {
  "kernelspec": {
   "display_name": "Python [conda env:metis]",
   "language": "python",
   "name": "conda-env-metis-py"
  },
  "language_info": {
   "codemirror_mode": {
    "name": "ipython",
    "version": 3
   },
   "file_extension": ".py",
   "mimetype": "text/x-python",
   "name": "python",
   "nbconvert_exporter": "python",
   "pygments_lexer": "ipython3",
   "version": "3.9.7"
  }
 },
 "nbformat": 4,
 "nbformat_minor": 5
}
