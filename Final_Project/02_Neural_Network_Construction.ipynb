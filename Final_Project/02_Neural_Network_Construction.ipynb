{
 "cells": [
  {
   "cell_type": "code",
   "execution_count": 10,
   "id": "f9d6d6f5",
   "metadata": {},
   "outputs": [],
   "source": [
    "import numpy as np\n",
    "import warnings\n",
    "warnings.filterwarnings('ignore')"
   ]
  },
  {
   "cell_type": "code",
   "execution_count": 11,
   "id": "3652aa87",
   "metadata": {},
   "outputs": [
    {
     "name": "stdout",
     "output_type": "stream",
     "text": [
      "Found 50940 images belonging to 2 classes.\n",
      "Found 16979 images belonging to 2 classes.\n",
      "Found 16979 images belonging to 2 classes.\n"
     ]
    }
   ],
   "source": [
    "from keras.preprocessing.image import ImageDataGenerator\n",
    "from tensorflow.keras.preprocessing import image_dataset_from_directory\n",
    "\n",
    "train_img_gen = ImageDataGenerator(rescale=1./255, validation_split = 0.25)\n",
    "test_img_gen = ImageDataGenerator(rescale=1./255)\n",
    "\n",
    "\n",
    "Training_Gen = train_img_gen.flow_from_directory('Eye_Images/Train', class_mode='binary', color_mode='grayscale', \n",
    "                                batch_size=32, target_size=(66,66), seed=711, \n",
    "                                subset='training')\n",
    "\n",
    "Validation_Gen = train_img_gen.flow_from_directory('Eye_Images/Train', class_mode='binary', color_mode='grayscale', \n",
    "                                batch_size=32, target_size=(66,66), seed=711, \n",
    "                                subset='validation')\n",
    "\n",
    "Testing_Gen=test_img_gen.flow_from_directory('Eye_Images/Test', class_mode='binary', color_mode='grayscale', \n",
    "                                batch_size=32, target_size=(66,66), seed=711)\n"
   ]
  },
  {
   "cell_type": "code",
   "execution_count": 12,
   "id": "7077a583",
   "metadata": {},
   "outputs": [
    {
     "name": "stdout",
     "output_type": "stream",
     "text": [
      "Found 84898 files belonging to 2 classes.\n",
      "Using 67919 files for training.\n",
      "Found 84898 files belonging to 2 classes.\n",
      "Using 16979 files for validation.\n"
     ]
    }
   ],
   "source": [
    "training = image_dataset_from_directory('Eye_Images', labels='inferred', label_mode='binary', color_mode='grayscale', \n",
    "                                        batch_size=32, image_size=(66,66), validation_split = 0.2, subset='training', seed=711)\n",
    "\n",
    "test = image_dataset_from_directory('Eye_Images', labels='inferred', label_mode='binary', color_mode='grayscale', \n",
    "                                        batch_size=32, image_size=(66,66), validation_split = 0.2, subset='validation', seed=711)"
   ]
  },
  {
   "cell_type": "code",
   "execution_count": 13,
   "id": "58f3ab5b",
   "metadata": {},
   "outputs": [],
   "source": [
    "import tensorflow as tf\n",
    "from tensorflow.keras.models import Sequential, load_model\n",
    "from tensorflow.keras.layers import Dense, Flatten, Conv2D, InputLayer, MaxPooling2D\n",
    "from tensorflow.keras.losses import sparse_categorical_crossentropy\n",
    "from tensorflow.keras.optimizers import Adam\n",
    "from tensorflow.keras.callbacks import ModelCheckpoint\n",
    "from tensorflow.keras.metrics import BinaryAccuracy\n",
    "from tensorflow.keras.callbacks import EarlyStopping, ReduceLROnPlateau"
   ]
  },
  {
   "cell_type": "code",
   "execution_count": 14,
   "id": "06ffd689",
   "metadata": {},
   "outputs": [],
   "source": [
    "def create_model():    \n",
    "    model = Sequential()\n",
    "    model.add(InputLayer(input_shape=(66,66,1)))\n",
    "    model.add(Conv2D(filters = 32, kernel_size=(3, 3), activation='relu'))\n",
    "    model.add(MaxPooling2D())\n",
    "    model.add(Conv2D(64, kernel_size=(3, 3), activation='relu'))\n",
    "    model.add(MaxPooling2D())\n",
    "    model.add(Conv2D(128, kernel_size=(3, 3), activation='relu'))\n",
    "    model.add(MaxPooling2D())\n",
    "    model.add(Flatten())\n",
    "    model.add(Dense(128, activation='relu'))\n",
    "    model.add(Dense(units = 1, activation='sigmoid')) #sigmoid instead of softmax because binary output\n",
    "    \n",
    "    model.compile(optimizer='sgd', loss= 'binary_crossentropy', metrics='BinaryAccuracy')\n",
    "    #model.load_weights(checkpoint_path)\n",
    "\n",
    "    \n",
    "    return model"
   ]
  },
  {
   "cell_type": "code",
   "execution_count": 15,
   "id": "f7aaa0ba",
   "metadata": {
    "scrolled": false
   },
   "outputs": [
    {
     "name": "stdout",
     "output_type": "stream",
     "text": [
      "Model: \"sequential_1\"\n",
      "_________________________________________________________________\n",
      "Layer (type)                 Output Shape              Param #   \n",
      "=================================================================\n",
      "conv2d_3 (Conv2D)            (None, 64, 64, 32)        320       \n",
      "_________________________________________________________________\n",
      "max_pooling2d_3 (MaxPooling2 (None, 32, 32, 32)        0         \n",
      "_________________________________________________________________\n",
      "conv2d_4 (Conv2D)            (None, 30, 30, 64)        18496     \n",
      "_________________________________________________________________\n",
      "max_pooling2d_4 (MaxPooling2 (None, 15, 15, 64)        0         \n",
      "_________________________________________________________________\n",
      "conv2d_5 (Conv2D)            (None, 13, 13, 128)       73856     \n",
      "_________________________________________________________________\n",
      "max_pooling2d_5 (MaxPooling2 (None, 6, 6, 128)         0         \n",
      "_________________________________________________________________\n",
      "flatten_1 (Flatten)          (None, 4608)              0         \n",
      "_________________________________________________________________\n",
      "dense_2 (Dense)              (None, 128)               589952    \n",
      "_________________________________________________________________\n",
      "dense_3 (Dense)              (None, 1)                 129       \n",
      "=================================================================\n",
      "Total params: 682,753\n",
      "Trainable params: 682,753\n",
      "Non-trainable params: 0\n",
      "_________________________________________________________________\n"
     ]
    }
   ],
   "source": [
    "model = create_model()\n",
    "model.summary()"
   ]
  },
  {
   "cell_type": "code",
   "execution_count": 18,
   "id": "d1f6009b",
   "metadata": {},
   "outputs": [],
   "source": [
    "model.save('full_batch_model_v2.h5')"
   ]
  },
  {
   "cell_type": "code",
   "execution_count": 16,
   "id": "6a0f5ba6",
   "metadata": {
    "scrolled": true
   },
   "outputs": [],
   "source": [
    "model_output= model.fit(Training_Gen, epochs=50, validation_data=Validation_Gen,\n",
    "                     callbacks=[ReduceLROnPlateau(factor=.5, patience=3, verbose=1)])"
   ]
  }
 ],
 "metadata": {
  "kernelspec": {
   "display_name": "Python [conda env:metis]",
   "language": "python",
   "name": "conda-env-metis-py"
  },
  "language_info": {
   "codemirror_mode": {
    "name": "ipython",
    "version": 3
   },
   "file_extension": ".py",
   "mimetype": "text/x-python",
   "name": "python",
   "nbconvert_exporter": "python",
   "pygments_lexer": "ipython3",
   "version": "3.9.7"
  }
 },
 "nbformat": 4,
 "nbformat_minor": 5
}
