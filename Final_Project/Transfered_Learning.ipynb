{
 "cells": [
  {
   "cell_type": "code",
   "execution_count": 1,
   "id": "86002995",
   "metadata": {},
   "outputs": [],
   "source": [
    "import numpy as np\n",
    "from sklearn.model_selection import train_test_split\n",
    "import cv2 as cv"
   ]
  },
  {
   "cell_type": "code",
   "execution_count": 2,
   "id": "d201e377",
   "metadata": {},
   "outputs": [],
   "source": [
    "X = np.load('Transfer_dataset_X.npy', allow_pickle=True)\n",
    "y = np.load('Transfer_dataset_y.npy', allow_pickle=True)"
   ]
  },
  {
   "cell_type": "code",
   "execution_count": 3,
   "id": "616e5a5b",
   "metadata": {},
   "outputs": [
    {
     "data": {
      "text/plain": [
       "(10000, 224, 224, 3)"
      ]
     },
     "execution_count": 3,
     "metadata": {},
     "output_type": "execute_result"
    }
   ],
   "source": [
    "X.shape"
   ]
  },
  {
   "cell_type": "code",
   "execution_count": 4,
   "id": "c571f7ac",
   "metadata": {},
   "outputs": [
    {
     "data": {
      "text/plain": [
       "(224, 224, 3)"
      ]
     },
     "execution_count": 4,
     "metadata": {},
     "output_type": "execute_result"
    }
   ],
   "source": [
    "X[0].shape"
   ]
  },
  {
   "cell_type": "code",
   "execution_count": 5,
   "id": "b3dfd70d",
   "metadata": {},
   "outputs": [],
   "source": [
    "X_train, X_test, y_train, y_test = train_test_split(X, y, test_size=0.2, random_state=711)"
   ]
  },
  {
   "cell_type": "code",
   "execution_count": 6,
   "id": "0abd197e",
   "metadata": {},
   "outputs": [],
   "source": [
    "del X\n",
    "del y"
   ]
  },
  {
   "cell_type": "code",
   "execution_count": 10,
   "id": "b4d92f6a",
   "metadata": {},
   "outputs": [],
   "source": [
    "from tensorflow.keras.applications import mobilenet_v2\n",
    "from tensorflow.keras.layers import Dense, Flatten, Conv2D\n",
    "from tensorflow.keras.models import Model, load_model\n",
    "from tensorflow.keras.callbacks import EarlyStopping, ReduceLROnPlateau"
   ]
  },
  {
   "cell_type": "code",
   "execution_count": 8,
   "id": "225ae438",
   "metadata": {},
   "outputs": [
    {
     "name": "stderr",
     "output_type": "stream",
     "text": [
      "2021-11-24 10:13:43.112034: W tensorflow/stream_executor/platform/default/dso_loader.cc:64] Could not load dynamic library 'libcuda.so.1'; dlerror: libcuda.so.1: cannot open shared object file: No such file or directory; LD_LIBRARY_PATH: /home/stephen/anaconda3/envs/metis/lib/python3.9/site-packages/cv2/../../lib64:\n",
      "2021-11-24 10:13:43.112055: W tensorflow/stream_executor/cuda/cuda_driver.cc:269] failed call to cuInit: UNKNOWN ERROR (303)\n",
      "2021-11-24 10:13:43.112069: I tensorflow/stream_executor/cuda/cuda_diagnostics.cc:156] kernel driver does not appear to be running on this host (StephenB): /proc/driver/nvidia/version does not exist\n",
      "2021-11-24 10:13:43.112179: I tensorflow/core/platform/cpu_feature_guard.cc:142] This TensorFlow binary is optimized with oneAPI Deep Neural Network Library (oneDNN) to use the following CPU instructions in performance-critical operations:  AVX2 FMA\n",
      "To enable them in other operations, rebuild TensorFlow with the appropriate compiler flags.\n"
     ]
    }
   ],
   "source": [
    "base_model = mobilenet_v2.MobileNetV2(weights='imagenet', include_top=False, input_shape=(224,224,3)) \n",
    " \n",
    "# Freeze convolutional layers\n",
    "for layer in base_model.layers:\n",
    "    layer.trainable = False    \n",
    "\n",
    "# Establish new fully connected block\n",
    "x = base_model.output\n",
    "x = Flatten()(x) \n",
    "x = Dense(128, activation='relu')(x) \n",
    "x = Dense(64, activation='relu')(x)\n",
    "predictions = Dense(1, activation='sigmoid')(x) \n",
    "\n",
    "\n",
    "# define formal model object to train and compile \n",
    "model = Model(inputs=base_model.input, outputs=predictions)\n",
    "model.compile(optimizer='adam', loss= 'binary_crossentropy', metrics='BinaryAccuracy')\n",
    "\n"
   ]
  },
  {
   "cell_type": "code",
   "execution_count": 9,
   "id": "5a08011e",
   "metadata": {},
   "outputs": [],
   "source": [
    "# model.summary()\n",
    "# EarlyStopping(patience=8, verbose=1, restore_best_weights=True),"
   ]
  },
  {
   "cell_type": "code",
   "execution_count": 10,
   "id": "5b5c038d",
   "metadata": {
    "scrolled": true
   },
   "outputs": [
    {
     "name": "stderr",
     "output_type": "stream",
     "text": [
      "2021-11-24 10:13:44.014081: W tensorflow/core/framework/cpu_allocator_impl.cc:80] Allocation of 3612672000 exceeds 10% of free system memory.\n",
      "2021-11-24 10:13:44.926870: I tensorflow/compiler/mlir/mlir_graph_optimization_pass.cc:185] None of the MLIR Optimization Passes are enabled (registered 2)\n"
     ]
    },
    {
     "name": "stdout",
     "output_type": "stream",
     "text": [
      "Epoch 1/20\n",
      "94/94 [==============================] - ETA: 0s - loss: 0.4134 - binary_accuracy: 0.9107"
     ]
    },
    {
     "name": "stderr",
     "output_type": "stream",
     "text": [
      "2021-11-24 10:14:28.602282: W tensorflow/core/framework/cpu_allocator_impl.cc:80] Allocation of 1204224000 exceeds 10% of free system memory.\n"
     ]
    },
    {
     "name": "stdout",
     "output_type": "stream",
     "text": [
      "94/94 [==============================] - 59s 612ms/step - loss: 0.4134 - binary_accuracy: 0.9107 - val_loss: 0.1732 - val_binary_accuracy: 0.9505\n",
      "Epoch 2/20\n",
      "94/94 [==============================] - 57s 613ms/step - loss: 0.1135 - binary_accuracy: 0.9643 - val_loss: 0.1965 - val_binary_accuracy: 0.9440\n",
      "Epoch 3/20\n",
      "94/94 [==============================] - 58s 617ms/step - loss: 0.0790 - binary_accuracy: 0.9735 - val_loss: 0.1070 - val_binary_accuracy: 0.9690\n",
      "Epoch 4/20\n",
      "94/94 [==============================] - 58s 615ms/step - loss: 0.0519 - binary_accuracy: 0.9832 - val_loss: 0.1317 - val_binary_accuracy: 0.9560\n",
      "Epoch 5/20\n",
      "94/94 [==============================] - 58s 615ms/step - loss: 0.0456 - binary_accuracy: 0.9835 - val_loss: 0.1737 - val_binary_accuracy: 0.9590\n",
      "Epoch 6/20\n",
      "94/94 [==============================] - 58s 619ms/step - loss: 0.0336 - binary_accuracy: 0.9878 - val_loss: 0.1111 - val_binary_accuracy: 0.9705\n",
      "\n",
      "Epoch 00006: ReduceLROnPlateau reducing learning rate to 0.0005000000237487257.\n",
      "Epoch 7/20\n",
      "94/94 [==============================] - 58s 618ms/step - loss: 0.0126 - binary_accuracy: 0.9952 - val_loss: 0.1056 - val_binary_accuracy: 0.9725\n",
      "Epoch 8/20\n",
      "94/94 [==============================] - 57s 609ms/step - loss: 0.0074 - binary_accuracy: 0.9987 - val_loss: 0.1026 - val_binary_accuracy: 0.9685\n",
      "Epoch 9/20\n",
      "94/94 [==============================] - 57s 610ms/step - loss: 0.0047 - binary_accuracy: 0.9995 - val_loss: 0.0897 - val_binary_accuracy: 0.9730\n",
      "Epoch 10/20\n",
      "94/94 [==============================] - 57s 613ms/step - loss: 0.0045 - binary_accuracy: 0.9990 - val_loss: 0.1039 - val_binary_accuracy: 0.9705\n",
      "Epoch 11/20\n",
      "94/94 [==============================] - 58s 616ms/step - loss: 0.0036 - binary_accuracy: 0.9995 - val_loss: 0.1043 - val_binary_accuracy: 0.9695\n",
      "Epoch 12/20\n",
      "94/94 [==============================] - 58s 617ms/step - loss: 0.0030 - binary_accuracy: 0.9997 - val_loss: 0.1033 - val_binary_accuracy: 0.9720\n",
      "\n",
      "Epoch 00012: ReduceLROnPlateau reducing learning rate to 0.0002500000118743628.\n",
      "Epoch 13/20\n",
      "94/94 [==============================] - 58s 615ms/step - loss: 0.0030 - binary_accuracy: 0.9998 - val_loss: 0.1034 - val_binary_accuracy: 0.9700\n",
      "Epoch 14/20\n",
      "94/94 [==============================] - 58s 616ms/step - loss: 0.0022 - binary_accuracy: 0.9998 - val_loss: 0.0977 - val_binary_accuracy: 0.9745\n",
      "Epoch 15/20\n",
      "94/94 [==============================] - 58s 619ms/step - loss: 0.0019 - binary_accuracy: 0.9998 - val_loss: 0.1015 - val_binary_accuracy: 0.9705\n",
      "\n",
      "Epoch 00015: ReduceLROnPlateau reducing learning rate to 0.0001250000059371814.\n",
      "Epoch 16/20\n",
      "94/94 [==============================] - 57s 611ms/step - loss: 0.0017 - binary_accuracy: 0.9997 - val_loss: 0.1069 - val_binary_accuracy: 0.9720\n",
      "Epoch 17/20\n",
      "94/94 [==============================] - 58s 616ms/step - loss: 0.0012 - binary_accuracy: 0.9998 - val_loss: 0.1037 - val_binary_accuracy: 0.9730\n",
      "Epoch 18/20\n",
      "94/94 [==============================] - 58s 614ms/step - loss: 0.0014 - binary_accuracy: 0.9997 - val_loss: 0.1050 - val_binary_accuracy: 0.9725\n",
      "\n",
      "Epoch 00018: ReduceLROnPlateau reducing learning rate to 6.25000029685907e-05.\n",
      "Epoch 19/20\n",
      "94/94 [==============================] - 58s 616ms/step - loss: 0.0011 - binary_accuracy: 0.9997 - val_loss: 0.1091 - val_binary_accuracy: 0.9720\n",
      "Epoch 20/20\n",
      "94/94 [==============================] - 58s 622ms/step - loss: 9.9410e-04 - binary_accuracy: 0.9998 - val_loss: 0.1086 - val_binary_accuracy: 0.9730\n"
     ]
    }
   ],
   "source": [
    "model_output= model.fit(X_train, y_train, epochs=20, batch_size=64, validation_split=0.25,\n",
    "                       callbacks=[ReduceLROnPlateau(factor=.5, patience=3, verbose=1)])"
   ]
  },
  {
   "cell_type": "code",
   "execution_count": 13,
   "id": "9251a513",
   "metadata": {
    "scrolled": true
   },
   "outputs": [
    {
     "name": "stderr",
     "output_type": "stream",
     "text": [
      "2021-11-24 10:48:55.388502: W tensorflow/core/framework/cpu_allocator_impl.cc:80] Allocation of 1204224000 exceeds 10% of free system memory.\n"
     ]
    },
    {
     "data": {
      "text/plain": [
       "0.9705"
      ]
     },
     "execution_count": 13,
     "metadata": {},
     "output_type": "execute_result"
    }
   ],
   "source": [
    "from sklearn.metrics import accuracy_score\n",
    "preds = np.round(model.predict(X_test))\n",
    "accuracy_score(y_test, preds)"
   ]
  },
  {
   "cell_type": "code",
   "execution_count": 14,
   "id": "b96fb13e",
   "metadata": {},
   "outputs": [
    {
     "name": "stderr",
     "output_type": "stream",
     "text": [
      "/home/stephen/anaconda3/envs/metis/lib/python3.9/site-packages/keras/utils/generic_utils.py:494: CustomMaskWarning: Custom mask layers require a config and must override get_config. When loading, the custom mask layer must be passed to the custom_objects argument.\n",
      "  warnings.warn('Custom mask layers require a config and must override '\n"
     ]
    }
   ],
   "source": [
    "model.save('transfer_model.h5')"
   ]
  },
  {
   "cell_type": "code",
   "execution_count": 12,
   "id": "a9b4e69c",
   "metadata": {
    "scrolled": true
   },
   "outputs": [
    {
     "name": "stderr",
     "output_type": "stream",
     "text": [
      "2021-11-29 10:58:52.731123: W tensorflow/core/framework/cpu_allocator_impl.cc:80] Allocation of 1204224000 exceeds 10% of free system memory.\n",
      "2021-11-29 10:58:53.070398: I tensorflow/compiler/mlir/mlir_graph_optimization_pass.cc:185] None of the MLIR Optimization Passes are enabled (registered 2)\n"
     ]
    },
    {
     "data": {
      "text/plain": [
       "0.9705"
      ]
     },
     "execution_count": 12,
     "metadata": {},
     "output_type": "execute_result"
    }
   ],
   "source": [
    "transfer_model = load_model('transfer_model.h5')"
   ]
  },
  {
   "cell_type": "code",
   "execution_count": 13,
   "id": "302e10d5",
   "metadata": {},
   "outputs": [
    {
     "name": "stderr",
     "output_type": "stream",
     "text": [
      "2021-11-29 10:59:17.548193: W tensorflow/core/framework/cpu_allocator_impl.cc:80] Allocation of 1204224000 exceeds 10% of free system memory.\n"
     ]
    },
    {
     "data": {
      "text/plain": [
       "0.9705"
      ]
     },
     "execution_count": 13,
     "metadata": {},
     "output_type": "execute_result"
    }
   ],
   "source": [
    "from sklearn.metrics import accuracy_score\n",
    "preds = np.round(transfer_model.predict(X_test))\n",
    "accuracy_score(y_test, preds)"
   ]
  },
  {
   "cell_type": "code",
   "execution_count": 14,
   "id": "f9cbfd5a",
   "metadata": {},
   "outputs": [
    {
     "data": {
      "image/png": "[encoded data removed]",
      "text/plain": [
       "<Figure size 432x288 with 2 Axes>"
      ]
     },
     "metadata": {
      "needs_background": "light"
     },
     "output_type": "display_data"
    }
   ],
   "source": [
    "from sklearn.metrics import confusion_matrix\n",
    "import seaborn as sns\n",
    "import matplotlib.pyplot as plt\n",
    "\n",
    "test_confusion = confusion_matrix(y_test, preds)\n",
    "sns.heatmap(test_confusion, cmap=\"Greens\", annot=True, square=True,fmt='g',\n",
    "            xticklabels=['Closed', 'Open'], \n",
    "            yticklabels=['Closed', 'Open'])\n",
    "plt.xlabel('Predicted')\n",
    "plt.ylabel('Actual')\n",
    "plt.title('Neural Network Results');\n",
    "plt.savefig(\"Transfer_Confusion_Matrix.png\")\n"
   ]
  }
 ],
 "metadata": {
  "kernelspec": {
   "display_name": "Python [conda env:metis]",
   "language": "python",
   "name": "conda-env-metis-py"
  },
  "language_info": {
   "codemirror_mode": {
    "name": "ipython",
    "version": 3
   },
   "file_extension": ".py",
   "mimetype": "text/x-python",
   "name": "python",
   "nbconvert_exporter": "python",
   "pygments_lexer": "ipython3",
   "version": "3.9.7"
  }
 },
 "nbformat": 4,
 "nbformat_minor": 5
}
