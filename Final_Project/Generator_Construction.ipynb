{
 "cells": [
  {
   "cell_type": "code",
   "execution_count": null,
   "id": "00dc3b0e",
   "metadata": {},
   "outputs": [],
   "source": [
    "import cv2 as  cv\n",
    "import numpy as np\n",
    "import os\n",
    "from random import shuffle\n",
    "from tqdm import tqdm, notebook\n",
    "from PIL import Image\n",
    "import matplotlib.pyplot as plt\n",
    "import pandas as pd\n",
    "import seaborn as sns\n",
    "from sklearn.model_selection import train_test_split\n",
    "from random import sample\n",
    "import matplotlib.pyplot as plt\n",
    "import tensorflow as tf"
   ]
  },
  {
   "cell_type": "code",
   "execution_count": null,
   "id": "4cfae01e",
   "metadata": {},
   "outputs": [],
   "source": [
    "folder_path = 'mrl_eye/'\n",
    "image_size = 66"
   ]
  },
  {
   "cell_type": "code",
   "execution_count": null,
   "id": "6492d382",
   "metadata": {},
   "outputs": [],
   "source": [
    "def label_img(img):\n",
    "    word_label = img.split('_')[4]\n",
    "    if word_label[0] == '1': return [1]\n",
    "    elif word_label[0] == '0': return [0]\n",
    "    \n",
    "    \n",
    "    #[1] eyes are open\n",
    "    #[0] eyes are closed"
   ]
  },
  {
   "cell_type": "code",
   "execution_count": null,
   "id": "91a9819b",
   "metadata": {},
   "outputs": [],
   "source": [
    "def create_dataset():\n",
    "    for folder in os.listdir(folder_path): #List of folders\n",
    "        folder = os.path.join(folder_path,folder)\n",
    "        for img_name in os.listdir(folder): #List of images in each folder\n",
    "            label = label_img(img_name) #Create a label from the information in the image file path\n",
    "            path = os.path.join(folder,img_name) #Construct a path to each image\n",
    "            img = cv.imread(path, cv.IMREAD_GRAYSCALE) #Read image, channels are BGR  **IMREAD_COLOR*\n",
    "            img = cv.resize(img, (image_size, image_size)) #Resize image to smallest image in dataset\n",
    "            img = img.reshape(image_size,image_size,1)\n",
    "            if label == [1]:\n",
    "                cv.imwrite(f'Eye_Images/Open/{img_name}', img)\n",
    "            else:\n",
    "                cv.imwrite(f'Eye_Images/Closed/{img_name}', img)\n",
    "    "
   ]
  },
  {
   "cell_type": "code",
   "execution_count": null,
   "id": "a6dc3706",
   "metadata": {},
   "outputs": [],
   "source": [
    "dataset = create_dataset()"
   ]
  },
  {
   "cell_type": "code",
   "execution_count": null,
   "id": "6b5b7416",
   "metadata": {},
   "outputs": [],
   "source": [
    "import os\n",
    "import random\n",
    "import shutil\n",
    "\n",
    "source = 'Eye_Images/Open/'\n",
    "dest = 'Eye_Images/Test/Open/'\n",
    "files = os.listdir(source)\n",
    "no_of_files = len(files) // 5\n",
    "\n",
    "for file_name in random.sample(files, no_of_files):\n",
    "    shutil.move(os.path.join(source, file_name), dest)"
   ]
  }
 ],
 "metadata": {
  "kernelspec": {
   "display_name": "Python [conda env:metis]",
   "language": "python",
   "name": "conda-env-metis-py"
  },
  "language_info": {
   "codemirror_mode": {
    "name": "ipython",
    "version": 3
   },
   "file_extension": ".py",
   "mimetype": "text/x-python",
   "name": "python",
   "nbconvert_exporter": "python",
   "pygments_lexer": "ipython3",
   "version": "3.9.7"
  }
 },
 "nbformat": 4,
 "nbformat_minor": 5
}
